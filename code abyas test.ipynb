{
 "cells": [
  {
   "cell_type": "code",
   "execution_count": 1,
   "id": "0a10767e",
   "metadata": {},
   "outputs": [
    {
     "name": "stdout",
     "output_type": "stream",
     "text": [
      "55.0\n",
      "16.0\n"
     ]
    }
   ],
   "source": [
    " # finding missing values  in an array\n",
    "arr=[1,4,9,25]\n",
    "n=len(arr)+1\n",
    "sum=(n*(n+1)*((2*n)+1))/6\n",
    "print(sum)\n",
    "for i in range(len(arr)):\n",
    "    sum=sum-arr[i]\n",
    "print(sum)"
   ]
  },
  {
   "cell_type": "code",
   "execution_count": 2,
   "id": "582f69c4",
   "metadata": {},
   "outputs": [
    {
     "name": "stdout",
     "output_type": "stream",
     "text": [
      "6.25\n"
     ]
    }
   ],
   "source": [
    "# bonary to deicmAL with floating point\n",
    "import math\n",
    "a=110.01\n",
    "\n",
    "b=str(a)\n",
    "c=b.index(\".\")\n",
    "num=0\n",
    "count=0\n",
    "for i in range(c-1,-1,-1):\n",
    "    num=num+((int(b[i])*(2**count)))\n",
    "    count+=1\n",
    "fcount=-1\n",
    "fnum=0\n",
    "for j in range(c+1,len(b)):\n",
    "    fnum=fnum+((int(b[j])*(2**fcount)))\n",
    "    fcount-=1\n",
    "\n",
    "\n",
    "\n",
    "decimal=float(num)+float(fnum)\n",
    "print(decimal)    \n"
   ]
  },
  {
   "cell_type": "code",
   "execution_count": null,
   "id": "c08f3482",
   "metadata": {},
   "outputs": [],
   "source": []
  },
  {
   "cell_type": "code",
   "execution_count": 45,
   "id": "3fd691bb",
   "metadata": {},
   "outputs": [
    {
     "name": "stdout",
     "output_type": "stream",
     "text": [
      "[1, 2, 3, 4] [3, 4]\n",
      "[1, 2, 3, 4, 3, 4]\n",
      "the inter section elements are  [3, 4]\n"
     ]
    }
   ],
   "source": [
    "# finding intersection of two arrays \n",
    "def uniquev(arr):\n",
    "    i=0\n",
    "    j=0\n",
    "    for j in range(len(arr)-1):\n",
    "        if arr[j]==arr[j+1]:\n",
    "            j=j+1\n",
    "        else:\n",
    "            i=i+1\n",
    "            arr[i]=arr[j+1]\n",
    "    return arr[0:i+1]\n",
    "\n",
    "arr1=[1,2,2,3,3,4]\n",
    "arr2=[3,4,4]\n",
    "arrtwo=uniquev(arr2)\n",
    "\n",
    "arrone=uniquev(arr1)\n",
    "print(arrone,arrtwo)\n",
    "for k in range(len(arrtwo)):\n",
    "    arrone.append(arrtwo[k])\n",
    "    \n",
    "print(arrone)\n",
    "inter=[]\n",
    "for i in arrone:\n",
    "    if arrone.count(i)==2:\n",
    "        inter.append(i)\n",
    "print(\"the inter section elements are \",list(set(inter)))\n",
    "    "
   ]
  },
  {
   "cell_type": "code",
   "execution_count": null,
   "id": "7cf152a4",
   "metadata": {},
   "outputs": [],
   "source": []
  }
 ],
 "metadata": {
  "kernelspec": {
   "display_name": "Python 3 (ipykernel)",
   "language": "python",
   "name": "python3"
  },
  "language_info": {
   "codemirror_mode": {
    "name": "ipython",
    "version": 3
   },
   "file_extension": ".py",
   "mimetype": "text/x-python",
   "name": "python",
   "nbconvert_exporter": "python",
   "pygments_lexer": "ipython3",
   "version": "3.10.9"
  }
 },
 "nbformat": 4,
 "nbformat_minor": 5
}
