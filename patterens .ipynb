{
 "cells": [
  {
   "cell_type": "code",
   "execution_count": 1,
   "id": "1ecd7fcc",
   "metadata": {},
   "outputs": [
    {
     "name": "stdout",
     "output_type": "stream",
     "text": [
      "* * * * *  \n",
      "* * * * *  \n",
      "* * * * *  \n",
      "* * * * *  \n",
      "* * * * *  \n"
     ]
    }
   ],
   "source": [
    "# patterens printing\n",
    "n=5\n",
    "for i in range(5):\n",
    "    for j in range(5):\n",
    "        print(\"*\",end=\" \")\n",
    "    print(\" \")"
   ]
  },
  {
   "cell_type": "code",
   "execution_count": 37,
   "id": "3f720415",
   "metadata": {},
   "outputs": [
    {
     "name": "stdout",
     "output_type": "stream",
     "text": [
      "*  \n",
      "* *  \n",
      "* * *  \n",
      "* * * *  \n",
      "* * * * *  \n"
     ]
    }
   ],
   "source": [
    "for i in range(5):\n",
    "    for j in range(i+1):\n",
    "        print(\"*\",end=\" \")\n",
    "        \n",
    "    print(\" \")\n",
    "    \n"
   ]
  },
  {
   "cell_type": "code",
   "execution_count": 3,
   "id": "c6a8e404",
   "metadata": {},
   "outputs": [
    {
     "name": "stdout",
     "output_type": "stream",
     "text": [
      "*  \n",
      "* *  \n",
      "* * *  \n",
      "* * * *  \n",
      "* * * * *  \n"
     ]
    }
   ],
   "source": [
    "for i in range(5):\n",
    "    for j in range(i+1):\n",
    "        print(\"*\",end=\" \")\n",
    "    print(\" \")"
   ]
  },
  {
   "cell_type": "code",
   "execution_count": 4,
   "id": "9bfe136d",
   "metadata": {},
   "outputs": [
    {
     "name": "stdout",
     "output_type": "stream",
     "text": [
      "*  \n",
      "* *  \n",
      "* * *  \n",
      "* * * *  \n",
      "* * * * *  \n",
      "* * * *  \n",
      "* * *  \n",
      "* *  \n",
      "*  \n"
     ]
    }
   ],
   "source": [
    "for i in range(4):\n",
    "    for j in range(i+1):\n",
    "        print(\"*\",end=\" \")\n",
    "    print(\" \")\n",
    "    \n",
    "for i in range(5):\n",
    "    for j in range(i,n):\n",
    "        print(\"*\",end=\" \")\n",
    "    print(\" \")"
   ]
  },
  {
   "cell_type": "code",
   "execution_count": 5,
   "id": "acfb9125",
   "metadata": {},
   "outputs": [
    {
     "name": "stdout",
     "output_type": "stream",
     "text": [
      "          *  \n",
      "        * *  \n",
      "      * * *  \n",
      "    * * * *  \n",
      "  * * * * *  \n",
      "    * * * *  \n",
      "      * * *  \n",
      "        * *  \n",
      "          *  \n"
     ]
    }
   ],
   "source": [
    "for i in range(4):\n",
    "    for j in range(i,n):\n",
    "        print(\" \",end=\" \")\n",
    "    for j in range(i+1):\n",
    "        print(\"*\",end=\" \")\n",
    "        \n",
    "    print(\" \")\n",
    "    \n",
    "for i in range(5):\n",
    "    for j in range(i+1):\n",
    "        print(\" \",end=\" \")\n",
    "    for j in range(i,n):\n",
    "        print(\"*\",end=\" \")\n",
    "    print(\" \")\n",
    "    "
   ]
  },
  {
   "cell_type": "code",
   "execution_count": 70,
   "id": "a8c9c921",
   "metadata": {},
   "outputs": [
    {
     "name": "stdout",
     "output_type": "stream",
     "text": [
      "*                 *  \n",
      "* *             * *  \n",
      "* * *         * * *  \n",
      "* * * *     * * * *  \n",
      "* * * * * * * * * *  \n"
     ]
    }
   ],
   "source": [
    "n=5\n",
    "for i in range(n):\n",
    "    for j in range(i+1):\n",
    "        print(\"*\",end=\" \")\n",
    "    for j in range(n-i-1):\n",
    "        print(\" \",end=\" \")\n",
    "    for j in range(i+1,n):\n",
    "        print(\" \",end=\" \")\n",
    "    for j in range(i+1):\n",
    "        print(\"*\",end=\" \")\n",
    "    print(\" \")"
   ]
  },
  {
   "cell_type": "code",
   "execution_count": null,
   "id": "588dcd29",
   "metadata": {},
   "outputs": [],
   "source": [
    "n=4\n",
    "for i in range(4):\n",
    "    for j in range(i+1):\n",
    "        print(\"*\",end=\" \")\n",
    "    for j in range(n-i-1):\n",
    "        print(\" \",end=\" \")\n",
    "    for j in range(i,n-1):\n",
    "        print(\" \",end=\" \")\n",
    "    for j in range(i+1):\n",
    "        print(\"*\",end=\" \")\n",
    "    print(\" \")\n",
    "for i in range(8):\n",
    "    print(\"*\",end=\" \")\n",
    "print(\" \")\n",
    "for i in range(5):\n",
    "    for j in range(i,n):\n",
    "        print(\"*\",end=\" \")\n",
    "    for j in range(i):\n",
    "        print(\" \",end=\" \")\n",
    "    for j in range(i):\n",
    "        print(\" \",end=\" \")\n",
    "    for j in range(i,n):\n",
    "        print(\"*\",end=\" \")\n",
    "    print(\" \")\n",
    "    "
   ]
  },
  {
   "cell_type": "code",
   "execution_count": 7,
   "id": "a13db287",
   "metadata": {},
   "outputs": [
    {
     "name": "stdout",
     "output_type": "stream",
     "text": [
      "* * * * *  \n",
      "* * * *  \n",
      "* * *  \n",
      "* *  \n",
      "*  \n"
     ]
    }
   ],
   "source": [
    "for i in range(5):\n",
    "    for j in range(i,n):\n",
    "        print(\"*\",end=\" \")\n",
    "    print(\" \")"
   ]
  },
  {
   "cell_type": "code",
   "execution_count": 8,
   "id": "82583409",
   "metadata": {},
   "outputs": [
    {
     "name": "stdout",
     "output_type": "stream",
     "text": [
      "          *  \n",
      "        * *  \n",
      "      * * *  \n",
      "    * * * *  \n",
      "  * * * * *  \n"
     ]
    }
   ],
   "source": [
    "for i in range(5):\n",
    "    for j in range(i,n):\n",
    "        print(\" \",end=\" \")\n",
    "    for j in range(i+1):\n",
    "        print(\"*\",end=\" \")\n",
    "        \n",
    "    print(\" \")\n",
    "    "
   ]
  },
  {
   "cell_type": "code",
   "execution_count": 9,
   "id": "4df20234",
   "metadata": {},
   "outputs": [
    {
     "name": "stdout",
     "output_type": "stream",
     "text": [
      "* * * * *  \n",
      "  * * * *  \n",
      "    * * *  \n",
      "      * *  \n",
      "        *  \n"
     ]
    }
   ],
   "source": [
    "for i in range(5):\n",
    "    for j in range(i):\n",
    "        print(\" \",end=\" \")\n",
    "    for j in range(i,n):\n",
    "        print(\"*\",end=\" \")\n",
    "    print(\" \")"
   ]
  },
  {
   "cell_type": "code",
   "execution_count": 10,
   "id": "c3d41bec",
   "metadata": {},
   "outputs": [
    {
     "name": "stdout",
     "output_type": "stream",
     "text": [
      "          *  \n",
      "        * * *  \n",
      "      * * * * *  \n",
      "    * * * * * * *  \n",
      "  * * * * * * * * *  \n"
     ]
    }
   ],
   "source": [
    "for i in range(5):\n",
    "    for j in range(i,n):\n",
    "        print(\" \",end=\" \")\n",
    "    for j in range(i):\n",
    "        print(\"*\",end=\" \")\n",
    "    \n",
    "        \n",
    "    for j in range(i+1):\n",
    "        print(\"*\",end=\" \")\n",
    "        \n",
    "    print(\" \")\n",
    "    "
   ]
  },
  {
   "cell_type": "code",
   "execution_count": 11,
   "id": "c02c03b6",
   "metadata": {},
   "outputs": [
    {
     "name": "stdout",
     "output_type": "stream",
     "text": [
      "  * * * * * * * * *  \n",
      "    * * * * * * *  \n",
      "      * * * * *  \n",
      "        * * *  \n",
      "          *  \n"
     ]
    }
   ],
   "source": [
    "for i in range(5):\n",
    "    for j in range(i+1):\n",
    "        print(\" \",end=\" \")\n",
    "    for j in range(i,n-1):\n",
    "        print(\"*\",end=\" \")\n",
    "        \n",
    "    for j in range(i,n):\n",
    "        print(\"*\",end=\" \")\n",
    "        \n",
    "    print(\" \")"
   ]
  },
  {
   "cell_type": "code",
   "execution_count": 12,
   "id": "3b3fc039",
   "metadata": {},
   "outputs": [
    {
     "name": "stdout",
     "output_type": "stream",
     "text": [
      "          *  \n",
      "        * * *  \n",
      "      * * * * *  \n",
      "    * * * * * * *  \n",
      "  * * * * * * * * *  \n",
      "    * * * * * * *  \n",
      "      * * * * *  \n",
      "        * * *  \n",
      "          *  \n"
     ]
    }
   ],
   "source": [
    "for i in range(4):\n",
    "    for j in range(i,n):\n",
    "        print(\" \",end=\" \")\n",
    "    for j in range(i):\n",
    "        print(\"*\",end=\" \")\n",
    "    \n",
    "        \n",
    "    for j in range(i+1):\n",
    "        print(\"*\",end=\" \")\n",
    "        \n",
    "    print(\" \")\n",
    "    \n",
    "for i in range(5):\n",
    "    for j in range(i+1):\n",
    "        print(\" \",end=\" \")\n",
    "    for j in range(i,n-1):\n",
    "        print(\"*\",end=\" \")\n",
    "        \n",
    "    for j in range(i,n):\n",
    "        print(\"*\",end=\" \")\n",
    "        \n",
    "    print(\" \")\n",
    "    "
   ]
  },
  {
   "cell_type": "code",
   "execution_count": 13,
   "id": "be94a4ff",
   "metadata": {},
   "outputs": [
    {
     "name": "stdout",
     "output_type": "stream",
     "text": [
      "  * * * * * * * * *  \n",
      "    * * * * * * *  \n",
      "      * * * * *  \n",
      "        * * *  \n",
      "          *  \n",
      "        * * *  \n",
      "      * * * * *  \n",
      "    * * * * * * *  \n",
      "  * * * * * * * * *  \n"
     ]
    }
   ],
   "source": [
    "for i in range(4):\n",
    "    for j in range(i+1):\n",
    "        print(\" \",end=\" \")\n",
    "    for j in range(i,n-1):\n",
    "        print(\"*\",end=\" \")\n",
    "        \n",
    "    for j in range(i,n):\n",
    "        print(\"*\",end=\" \")\n",
    "        \n",
    "    print(\" \")\n",
    "    \n",
    "for i in range(5):\n",
    "    for j in range(i,n):\n",
    "        print(\" \",end=\" \")\n",
    "    for j in range(i):\n",
    "        print(\"*\",end=\" \")\n",
    "    \n",
    "        \n",
    "    for j in range(i+1):\n",
    "        print(\"*\",end=\" \")\n",
    "        \n",
    "    print(\" \")\n",
    "    "
   ]
  },
  {
   "cell_type": "code",
   "execution_count": 72,
   "id": "be519144",
   "metadata": {},
   "outputs": [
    {
     "name": "stdout",
     "output_type": "stream",
     "text": [
      "* * * * *  \n",
      "* * * * *  \n",
      "* * * * *  \n",
      "* * * * *  \n",
      "* * * * *  \n"
     ]
    }
   ],
   "source": [
    "for i in range(5):\n",
    "    for j in range(5):\n",
    "        print(\"*\",end=\" \")\n",
    "    print(\" \")"
   ]
  },
  {
   "cell_type": "code",
   "execution_count": 82,
   "id": "74d47abd",
   "metadata": {},
   "outputs": [
    {
     "name": "stdout",
     "output_type": "stream",
     "text": [
      "* * * * *  \n",
      "*       *  \n",
      "*       *  \n",
      "*       *  \n",
      "* * * * *  \n"
     ]
    }
   ],
   "source": [
    "for i in range(5):\n",
    "    for j in range(5):\n",
    "        if i==0 or  j==0 or i==4 or j==4:\n",
    "            print(\"*\",end=\" \")\n",
    "        else:\n",
    "            print(\" \",end=\" \")\n",
    "    print(\" \")"
   ]
  },
  {
   "cell_type": "code",
   "execution_count": 95,
   "id": "b7e243d4",
   "metadata": {},
   "outputs": [
    {
     "name": "stdout",
     "output_type": "stream",
     "text": [
      "        *  \n",
      "      *   *  \n",
      "    *       *  \n",
      "  *           *  \n",
      "* * * * * * * * *  \n"
     ]
    }
   ],
   "source": [
    "n=5\n",
    "for i in range(5):\n",
    "    for j in range(i,n-1):\n",
    "        print(\" \",end=\" \")\n",
    "    for j in range(i+1):\n",
    "        if j==0 or i==n-1:\n",
    "            print(\"*\",end=\" \")\n",
    "        else:\n",
    "            print(\" \",end=\" \")\n",
    "    for j in range(i):\n",
    "        if j==i-1 or i==n-1:\n",
    "            print(\"*\",end=\" \")\n",
    "        else:\n",
    "            print(\" \",end=\" \")\n",
    "    print(\" \")"
   ]
  },
  {
   "cell_type": "code",
   "execution_count": 119,
   "id": "1c513171",
   "metadata": {},
   "outputs": [
    {
     "name": "stdout",
     "output_type": "stream",
     "text": [
      "          *  \n",
      "        *   *  \n",
      "      *       *  \n",
      "    *           *  \n",
      "  *               *  \n",
      "    *           *  \n",
      "      *       *  \n",
      "        *   *  \n",
      "          *  \n"
     ]
    }
   ],
   "source": [
    "n=5\n",
    "for i in range(4):\n",
    "    for j in range(i,n):\n",
    "        print(\" \",end=\" \")\n",
    "    for j in range(i):\n",
    "        if j==0 or i==n-1:\n",
    "            print(\"*\",end=\" \")\n",
    "        else:\n",
    "            print(\" \",end=\" \")\n",
    "        \n",
    "    for j in range(i+1):\n",
    "        if j==i:\n",
    "            print(\"*\",end=\" \")\n",
    "        else:\n",
    "            print(\" \",end=\" \")\n",
    "        \n",
    "    print(\" \")\n",
    "    \n",
    "for i in range(5):\n",
    "    for j in range(i+1):\n",
    "        print(\" \",end=\" \")\n",
    "    for j in range(i,n-1):\n",
    "        if j==i :\n",
    "             print(\"*\",end=\" \")\n",
    "        else:\n",
    "            print(\" \",end=\" \")\n",
    "        \n",
    "    for j in range(i,n):\n",
    "        if j==n-1 :\n",
    "             print(\"*\",end=\" \")\n",
    "        else:\n",
    "            print(\" \",end=\" \")\n",
    "        \n",
    "    print(\" \")\n",
    "    "
   ]
  },
  {
   "cell_type": "code",
   "execution_count": null,
   "id": "2f4c56a5",
   "metadata": {},
   "outputs": [],
   "source": []
  }
 ],
 "metadata": {
  "kernelspec": {
   "display_name": "Python 3 (ipykernel)",
   "language": "python",
   "name": "python3"
  },
  "language_info": {
   "codemirror_mode": {
    "name": "ipython",
    "version": 3
   },
   "file_extension": ".py",
   "mimetype": "text/x-python",
   "name": "python",
   "nbconvert_exporter": "python",
   "pygments_lexer": "ipython3",
   "version": "3.10.9"
  }
 },
 "nbformat": 4,
 "nbformat_minor": 5
}
