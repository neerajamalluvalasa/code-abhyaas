{
 "cells": [
  {
   "cell_type": "raw",
   "id": "a2a49f09",
   "metadata": {},
   "source": [
    "###  majority element\n",
    "\n",
    "-> occuring greater than n/2 times\n",
    "-> methods\n",
    "     -> 2 loops -o(n2)\n",
    "     -> hashmap -o(n) ,s o(n)\n",
    "     -> sort,count -(nlogn)\n",
    "     -> moore algoritham\n",
    "     \n",
    "     "
   ]
  },
  {
   "cell_type": "code",
   "execution_count": 1,
   "id": "322b35d5",
   "metadata": {},
   "outputs": [
    {
     "name": "stdout",
     "output_type": "stream",
     "text": [
      "the majority element in arr is  1\n"
     ]
    }
   ],
   "source": [
    "# more algoritham \n",
    "count=0\n",
    "arr=[1,1,3,1,2,0,1]\n",
    "for i in range(len(arr)-1):\n",
    "    if(count==0):\n",
    "        count+=1\n",
    "        maxele=arr[i]\n",
    "    else:\n",
    "        if arr[i]==arr[i+1]:\n",
    "            count+=1\n",
    "        else:\n",
    "            count-+1\n",
    "print(\"the majority element in arr is \",count)"
   ]
  },
  {
   "cell_type": "code",
   "execution_count": 2,
   "id": "67a0bcff",
   "metadata": {},
   "outputs": [
    {
     "name": "stdout",
     "output_type": "stream",
     "text": [
      "[0, 1, 2, 2, 2, 3]\n",
      "2\n"
     ]
    }
   ],
   "source": [
    "# majority element in nlogn complicity\n",
    "\n",
    "arr=[1,2,3,2,2,0]\n",
    "arr.sort()\n",
    "n=len(arr)//2\n",
    "count=1\n",
    "maxcount=0\n",
    "print(arr)\n",
    "for i in range(len(arr)-1):\n",
    "    if arr[i]==arr[i+1]:\n",
    "        count=count+1\n",
    "        \n",
    "        \n",
    "    else:\n",
    "        count=1\n",
    "    maxcount=max(count,maxcount)\n",
    "if maxcount>=n:\n",
    "    for i in arr:\n",
    "        if arr.count(i)==maxcount:\n",
    "            maxele=i\n",
    "print(maxele)"
   ]
  },
  {
   "cell_type": "code",
   "execution_count": 3,
   "id": "d1e60459",
   "metadata": {},
   "outputs": [
    {
     "name": "stdout",
     "output_type": "stream",
     "text": [
      "2\n"
     ]
    }
   ],
   "source": [
    "arr=[1,2,3,2,2,0]\n",
    "h={}\n",
    "for i in arr:\n",
    "    if i not in h:\n",
    "        h[i]=1\n",
    "    else:\n",
    "        h[i]+=1\n",
    "for i in h:\n",
    "    if h[i]==max(h.values()):\n",
    "        maxele=i\n",
    "print(maxele)"
   ]
  },
  {
   "cell_type": "raw",
   "id": "42c9a2d5",
   "metadata": {},
   "source": [
    "# 2 sum problem\n",
    "-> 2 loops\n",
    "-> hashing/for loop\n",
    "-> sort and 2 pointers"
   ]
  },
  {
   "cell_type": "code",
   "execution_count": 4,
   "id": "54137fec",
   "metadata": {},
   "outputs": [
    {
     "name": "stdout",
     "output_type": "stream",
     "text": [
      "1 8\n",
      "2 7\n",
      "3 6\n",
      "4 5\n",
      "6 3\n"
     ]
    }
   ],
   "source": [
    "# for loop\n",
    "arr=[1,2,3,4,6,8]\n",
    "for i in range(len(arr)-1):\n",
    "    sum=9\n",
    "    sum=sum-arr[i]\n",
    "    print(arr[i],sum)\n",
    "    if sum in range(arr[i+1],len(arr)):\n",
    "        print(arr[i],sum)"
   ]
  },
  {
   "cell_type": "code",
   "execution_count": 13,
   "id": "fe91701a",
   "metadata": {},
   "outputs": [
    {
     "name": "stdout",
     "output_type": "stream",
     "text": [
      "---> 8\n",
      "1 8\n",
      "---> 7\n",
      "---> 6\n",
      "3 6\n",
      "---> 5\n",
      "---> 3\n",
      "6 3\n",
      "---> 1\n",
      "8 1\n"
     ]
    }
   ],
   "source": [
    "# hashing\n",
    "arr=[1,2,3,4,6,8]\n",
    "hash={}\n",
    "for i in arr:\n",
    "    if i not in h:\n",
    "        h[i]=1\n",
    "    else:\n",
    "        h[i]+=1\n",
    "\n",
    "for j in arr:\n",
    "    sum=9\n",
    "    sum=sum-j\n",
    "    print(\"--->\",sum)\n",
    "    if sum in h:\n",
    "        print(j,sum)\n",
    "    "
   ]
  },
  {
   "cell_type": "code",
   "execution_count": 18,
   "id": "ce47051b",
   "metadata": {},
   "outputs": [
    {
     "name": "stdout",
     "output_type": "stream",
     "text": [
      "1 8\n",
      "3 6\n"
     ]
    }
   ],
   "source": [
    "# sort & 2 \n",
    "arr=[1,4,6,3,2,8]\n",
    "arr.sort()\n",
    "i=0\n",
    "j=len(arr)-1\n",
    "sum=9\n",
    "while(i<j):\n",
    "    sum1=arr[i]+arr[j]\n",
    "    if sum1==sum:\n",
    "        print(arr[i],arr[j])\n",
    "        i=i+1\n",
    "        j=j-1\n",
    "    elif sum1<sum:\n",
    "        i=i+1\n",
    "    else:\n",
    "        j=j-1\n",
    "\n"
   ]
  },
  {
   "cell_type": "code",
   "execution_count": 26,
   "id": "3ff70c17",
   "metadata": {},
   "outputs": [
    {
     "name": "stdout",
     "output_type": "stream",
     "text": [
      "1 (3, 8)\n",
      "2 (4, 6)\n"
     ]
    }
   ],
   "source": [
    "# 3 sum (sum of 3 elements is equal to  given sum)\n",
    "arr=[1,4,6,3,2,8]\n",
    "arr.sort()\n",
    "def sum2(array,sum):\n",
    "    i=0\n",
    "    j=len(array)-1\n",
    "    while(i<j):\n",
    "        sum1=array[i]+array[j]\n",
    "        if sum1==sum:\n",
    "            return (array[i],array[j])\n",
    "            i=i+1\n",
    "            j=j-1\n",
    "        elif sum1<sum:\n",
    "            i=i+1\n",
    "        else:\n",
    "            j=j-1\n",
    "\n",
    "for k in range(len(arr)):\n",
    "    sumre=12 \n",
    "    sumre=sumre-arr[k]\n",
    "    other2=sum2(arr[k+1:],sumre)\n",
    "    if other2:\n",
    "        print(arr[k],other2)\n",
    "    "
   ]
  },
  {
   "cell_type": "code",
   "execution_count": null,
   "id": "abcfa2b9",
   "metadata": {},
   "outputs": [],
   "source": []
  }
 ],
 "metadata": {
  "kernelspec": {
   "display_name": "Python 3 (ipykernel)",
   "language": "python",
   "name": "python3"
  },
  "language_info": {
   "codemirror_mode": {
    "name": "ipython",
    "version": 3
   },
   "file_extension": ".py",
   "mimetype": "text/x-python",
   "name": "python",
   "nbconvert_exporter": "python",
   "pygments_lexer": "ipython3",
   "version": "3.10.9"
  }
 },
 "nbformat": 4,
 "nbformat_minor": 5
}
