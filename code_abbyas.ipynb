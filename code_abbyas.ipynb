{
 "cells": [
  {
   "cell_type": "code",
   "execution_count": 9,
   "id": "5c95e2ed",
   "metadata": {},
   "outputs": [
    {
     "name": "stdout",
     "output_type": "stream",
     "text": [
      "[1, 6, 5]\n",
      "[-2, -3, -8]\n",
      "[1, -2, 6, -3, 5, -8]\n"
     ]
    }
   ],
   "source": [
    "arr=[1,-2,6,5,-3,-8]\n",
    "arrpos=[]\n",
    "arrneg=[]\n",
    "\n",
    "for i in arr:\n",
    "    if i>0:\n",
    "        arrpos.append(i)\n",
    "    else:\n",
    "        arrneg.append(i)\n",
    "        \n",
    "print(arrpos)\n",
    "print(arrneg)\n",
    "arrres=[]\n",
    "for i in range(len(arr)):\n",
    "    if i%2==0:\n",
    "        arr[i]=arrpos[int(i/2)]\n",
    "    else:\n",
    "        arr[i]=arrneg[int(i/2)]\n",
    "print(arr)"
   ]
  },
  {
   "cell_type": "code",
   "execution_count": 17,
   "id": "69e3ec50",
   "metadata": {},
   "outputs": [
    {
     "name": "stdout",
     "output_type": "stream",
     "text": [
      "[1, -3, 6, -2, 5, -8]\n"
     ]
    }
   ],
   "source": [
    "arr=[1,-3,6,5,-2,-8]\n",
    "poscount=0\n",
    "negcount=1\n",
    "new_arr=[ 0 for i in range(len(arr))]\n",
    "for i in range(len(arr)):\n",
    "    if arr[i]>0:\n",
    "        new_arr[poscount]=arr[i]\n",
    "        poscount+=2\n",
    "    else:\n",
    "        new_arr[negcount]=arr[i]\n",
    "        negcount+=2\n",
    "print(new_arr)\n",
    "    "
   ]
  },
  {
   "cell_type": "code",
   "execution_count": 21,
   "id": "d41373b9",
   "metadata": {},
   "outputs": [
    {
     "name": "stdout",
     "output_type": "stream",
     "text": [
      "[6, 12, 22]\n"
     ]
    }
   ],
   "source": [
    "# leading element in an array\n",
    "arr=[10,22,12,3,0,6]\n",
    "ledele=[]\n",
    "max=arr[-1]\n",
    "ledele.append(max)\n",
    "for i in range(len(arr)-1,-1,-1):\n",
    "    if arr[i]>max:\n",
    "        ledele.append(arr[i])\n",
    "        max=arr[i]\n",
    "print(ledele)"
   ]
  },
  {
   "cell_type": "code",
   "execution_count": 22,
   "id": "927ed2f4",
   "metadata": {},
   "outputs": [],
   "source": [
    "arr=[10,22,12,3,0,6]\n"
   ]
  },
  {
   "cell_type": "code",
   "execution_count": 33,
   "id": "21190fc3",
   "metadata": {},
   "outputs": [
    {
     "name": "stdout",
     "output_type": "stream",
     "text": [
      "5\n"
     ]
    }
   ],
   "source": [
    "# stock buy & cell\n",
    "stock=[9,7,1,2,3,6,4,0]\n",
    "mins=1000\n",
    "maxs=0\n",
    "for i in range(len(stock)):\n",
    "    mins=min(mins,stock[i])\n",
    "    maxds=stock[i]-mins\n",
    "    if maxds>maxs:\n",
    "        maxs=maxds\n",
    "print(maxs)"
   ]
  },
  {
   "cell_type": "code",
   "execution_count": null,
   "id": "bb014e25",
   "metadata": {},
   "outputs": [],
   "source": []
  }
 ],
 "metadata": {
  "kernelspec": {
   "display_name": "Python 3 (ipykernel)",
   "language": "python",
   "name": "python3"
  },
  "language_info": {
   "codemirror_mode": {
    "name": "ipython",
    "version": 3
   },
   "file_extension": ".py",
   "mimetype": "text/x-python",
   "name": "python",
   "nbconvert_exporter": "python",
   "pygments_lexer": "ipython3",
   "version": "3.10.9"
  }
 },
 "nbformat": 4,
 "nbformat_minor": 5
}
