{
 "cells": [
  {
   "cell_type": "raw",
   "id": "ac9a527e",
   "metadata": {},
   "source": [
    "# sort 0s,1s,2s one side\n",
    "->sorting o(nlogn)\n",
    "->count  0s count,1scount,2count  o(n),o(1)\n",
    "->using 2 pointers"
   ]
  },
  {
   "cell_type": "code",
   "execution_count": 2,
   "id": "6ea67176",
   "metadata": {},
   "outputs": [
    {
     "name": "stdout",
     "output_type": "stream",
     "text": [
      "[0, 0, 0, 1, 2, 2]\n"
     ]
    }
   ],
   "source": [
    "# by using sorting\n",
    "arr=[0,2,1,0,0,2]\n",
    "arr.sort()\n",
    "print(arr)"
   ]
  },
  {
   "cell_type": "code",
   "execution_count": 1,
   "id": "699e4d68",
   "metadata": {},
   "outputs": [
    {
     "name": "stdout",
     "output_type": "stream",
     "text": [
      "2 2 3\n",
      "[0, 0, 1, 1, 2, 2, 2]\n"
     ]
    }
   ],
   "source": [
    "# by using count\n",
    "count0=0\n",
    "count1=0\n",
    "count2=0\n",
    "arr=[0,2,1,1,2,2,0]\n",
    "for i in arr:\n",
    "    if i==0:\n",
    "        count0+=1\n",
    "    elif i==1:\n",
    "        count1+=1\n",
    "    else:\n",
    "        count2+=1\n",
    "print(count0,count1,count2)\n",
    "for i in range(0,count0):\n",
    "    arr[i]=0\n",
    "\n",
    "for j in range(count0,count0+count1):\n",
    "    arr[j]=1\n",
    "\n",
    "for k in range(count0+count1,len(arr)):\n",
    "    arr[k]=2\n",
    "print(arr)"
   ]
  },
  {
   "cell_type": "code",
   "execution_count": null,
   "id": "cbda3a68",
   "metadata": {},
   "outputs": [],
   "source": [
    "# using 2 pointers\n",
    "arr=[0,2,1,1,2,0,1]\n",
    "i=0\n",
    "k=0\n",
    "j=len(arr)-1\n",
    "print(i,j,k)\n",
    "while i<j-1:\n",
    "    if arr[k]==0:\n",
    "        temp=arr[i]\n",
    "        arr[i]=arr[k]\n",
    "        arr[k]=temp\n",
    "        i=i+1\n",
    "        k+=1\n",
    "        \n",
    "        print(\"------->\" ,arr)\n",
    "        \n",
    "    if arr[k]==2:\n",
    "        temp=arr[j]\n",
    "        arr[j]=arr[k]\n",
    "        arr[k]=temp\n",
    "        j=j-1\n",
    "        k+=1\n",
    "        print(\"----------->\",arr)\n",
    "print(arr)   "
   ]
  },
  {
   "cell_type": "code",
   "execution_count": 25,
   "id": "7d98f0fb",
   "metadata": {},
   "outputs": [
    {
     "name": "stdout",
     "output_type": "stream",
     "text": [
      "6\n"
     ]
    }
   ],
   "source": [
    "# maximum subarray sum in array\n",
    "arr=[-2,1,-3,4,-1,2,1,-5,4]\n",
    "maxsum=sum=0\n",
    "for i in arr:\n",
    "    sum=sum+i\n",
    "    if(sum<0):\n",
    "        sum=0\n",
    "    else:\n",
    "        if(sum>maxsum):\n",
    "            maxsum=sum\n",
    "print(maxsum)"
   ]
  },
  {
   "cell_type": "code",
   "execution_count": 29,
   "id": "ced5e31b",
   "metadata": {},
   "outputs": [
    {
     "name": "stdout",
     "output_type": "stream",
     "text": [
      "6\n",
      "[4, -1, 2, 1]\n"
     ]
    }
   ],
   "source": [
    "# printing the elements with max sum\n",
    "arr=[-2,1,-3,4,-1,2,1,-5,4]\n",
    "maxsum=sum=0\n",
    "for i in range(len(arr)):\n",
    "    sum=sum+arr[i]\n",
    "    if(sum<0):\n",
    "        sum=0\n",
    "        start=i+1\n",
    "    else:\n",
    "        if(sum>maxsum):\n",
    "            maxsum=sum\n",
    "            end=i+1\n",
    "            current_start=start\n",
    "print(maxsum)\n",
    "print(arr[current_start:end])"
   ]
  },
  {
   "cell_type": "code",
   "execution_count": null,
   "id": "5b6267d3",
   "metadata": {},
   "outputs": [],
   "source": []
  }
 ],
 "metadata": {
  "kernelspec": {
   "display_name": "Python 3 (ipykernel)",
   "language": "python",
   "name": "python3"
  },
  "language_info": {
   "codemirror_mode": {
    "name": "ipython",
    "version": 3
   },
   "file_extension": ".py",
   "mimetype": "text/x-python",
   "name": "python",
   "nbconvert_exporter": "python",
   "pygments_lexer": "ipython3",
   "version": "3.10.9"
  }
 },
 "nbformat": 4,
 "nbformat_minor": 5
}
