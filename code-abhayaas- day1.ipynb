{
 "cells": [
  {
   "cell_type": "markdown",
   "id": "6dac3cee",
   "metadata": {},
   "source": [
    "## Hashing\n",
    "- hashing is implemented by using dictionaries in python and in java,c++ languages hashmaps are used\n",
    "- hashing will help to efficient storage of data and retrival\n",
    "- hashing can be used to find duplicate values"
   ]
  },
  {
   "cell_type": "code",
   "execution_count": 3,
   "id": "73a86909",
   "metadata": {},
   "outputs": [
    {
     "name": "stdout",
     "output_type": "stream",
     "text": [
      "{1: 2, 2: 3, 4: 1, 8: 1}\n"
     ]
    }
   ],
   "source": [
    "# hashing implementation\n",
    "arr=[1,2,2,4,1,8,2]\n",
    "c={}\n",
    "for i in arr:\n",
    "    if i not in c:\n",
    "        c[i]=1\n",
    "    else:\n",
    "        c[i]+=1\n",
    "print(c)  "
   ]
  },
  {
   "cell_type": "code",
   "execution_count": 6,
   "id": "ad844abc",
   "metadata": {},
   "outputs": [
    {
     "name": "stdout",
     "output_type": "stream",
     "text": [
      "the heighest occuring element is 2 it occuring 3 times\n"
     ]
    }
   ],
   "source": [
    "# for geting heighest occuring  element\n",
    "maxc=1\n",
    "for i in c:\n",
    "    if c[i]>maxc:\n",
    "        maxele=i\n",
    "        maxc=c[i]\n",
    "print(f'the heighest occuring element is {maxele} it occuring {maxc} times')\n",
    "        "
   ]
  },
  {
   "cell_type": "code",
   "execution_count": 7,
   "id": "4474106c",
   "metadata": {},
   "outputs": [
    {
     "name": "stdout",
     "output_type": "stream",
     "text": [
      "4\n"
     ]
    }
   ],
   "source": []
  },
  {
   "cell_type": "code",
   "execution_count": 13,
   "id": "205b0a8e",
   "metadata": {},
   "outputs": [
    {
     "name": "stdout",
     "output_type": "stream",
     "text": [
      "3\n"
     ]
    }
   ],
   "source": [
    "print(max(c.values()))"
   ]
  },
  {
   "cell_type": "code",
   "execution_count": null,
   "id": "1fafe1eb",
   "metadata": {},
   "outputs": [],
   "source": []
  }
 ],
 "metadata": {
  "kernelspec": {
   "display_name": "Python 3 (ipykernel)",
   "language": "python",
   "name": "python3"
  },
  "language_info": {
   "codemirror_mode": {
    "name": "ipython",
    "version": 3
   },
   "file_extension": ".py",
   "mimetype": "text/x-python",
   "name": "python",
   "nbconvert_exporter": "python",
   "pygments_lexer": "ipython3",
   "version": "3.10.9"
  }
 },
 "nbformat": 4,
 "nbformat_minor": 5
}
