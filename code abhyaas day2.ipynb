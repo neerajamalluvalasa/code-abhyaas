{
 "cells": [
  {
   "cell_type": "markdown",
   "id": "3c5825c3",
   "metadata": {},
   "source": [
    "## Arrays"
   ]
  },
  {
   "cell_type": "code",
   "execution_count": 1,
   "id": "14985f55",
   "metadata": {},
   "outputs": [],
   "source": [
    "import math"
   ]
  },
  {
   "cell_type": "code",
   "execution_count": 2,
   "id": "695c472e",
   "metadata": {},
   "outputs": [
    {
     "name": "stdout",
     "output_type": "stream",
     "text": [
      "[1, 2, 3, 5, 6]\n"
     ]
    }
   ],
   "source": [
    "# finding 2nd max and 2nd min in an array by using inbuilt function\n",
    "arr=[1,5,2,3,6]\n",
    "#arr.sort(reverse=True)\n",
    "arr.sort()\n",
    "print(arr)"
   ]
  },
  {
   "cell_type": "code",
   "execution_count": 3,
   "id": "c84e159d",
   "metadata": {},
   "outputs": [
    {
     "name": "stdout",
     "output_type": "stream",
     "text": [
      "second largest element is  5\n",
      "second smallest element is  2\n"
     ]
    }
   ],
   "source": [
    "print(\"second largest element is \",arr[-2])\n",
    "print(\"second smallest element is \",arr[1])"
   ]
  },
  {
   "cell_type": "code",
   "execution_count": 4,
   "id": "3f5d402c",
   "metadata": {},
   "outputs": [
    {
     "name": "stdout",
     "output_type": "stream",
     "text": [
      "second largest element is  6\n",
      "second smallest element is  1\n"
     ]
    }
   ],
   "source": [
    "## for duplicates it not working\n",
    "arr=[1,5,2,3,6,6,1]\n",
    "arr.sort()\n",
    "print(\"second largest element is \",arr[-2])\n",
    "print(\"second smallest element is \",arr[1])"
   ]
  },
  {
   "cell_type": "code",
   "execution_count": 5,
   "id": "e682797b",
   "metadata": {},
   "outputs": [
    {
     "name": "stdout",
     "output_type": "stream",
     "text": [
      "10 -2\n",
      "second largest is  8\n",
      "second minimum is  -1\n"
     ]
    }
   ],
   "source": [
    "arr=[1,5,2,3,6,6,1,0,-1,8,10,-2]\n",
    "maxele=0\n",
    "minele=maxele\n",
    "for i in arr:\n",
    "    if i>=maxele:\n",
    "        maxele=i\n",
    "   \n",
    "    if i<minele:\n",
    "        minele=i\n",
    "secondmax=-1\n",
    "secondmin=maxele\n",
    "print(maxele,minele)\n",
    "for j in range(len(arr)):\n",
    "    if  arr[j]>secondmax and arr[j]<maxele :\n",
    "        secondmax=arr[j]\n",
    "    \n",
    "    if arr[j]<secondmin and arr[j]>minele:\n",
    "        secondmin=arr[j]\n",
    "print(\"second largest is \",secondmax)\n",
    "print(\"second minimum is \",secondmin)"
   ]
  },
  {
   "cell_type": "code",
   "execution_count": 6,
   "id": "565d4b1d",
   "metadata": {},
   "outputs": [
    {
     "data": {
      "text/plain": [
       "[0, 1, 2, 3, 5, 6, 8, 10, -2, -4, -3, -1]"
      ]
     },
     "execution_count": 6,
     "metadata": {},
     "output_type": "execute_result"
    }
   ],
   "source": [
    "# array present duplicate values\n",
    "arr=[1,5,2,3,6,6,1,0,-1,8,10,-2,-3,-4]\n",
    "arr1=set(arr)\n",
    "arr=list(arr1)\n",
    "arr"
   ]
  },
  {
   "cell_type": "code",
   "execution_count": 8,
   "id": "5d16f0a4",
   "metadata": {},
   "outputs": [
    {
     "name": "stdout",
     "output_type": "stream",
     "text": [
      "second max  6\n"
     ]
    }
   ],
   "source": [
    "# optimal solution for finding  second minimum and second maximum \n",
    "arr=[1,5,2,3,6,6,1,0,7]\n",
    "maxele=secondmax=-100000\n",
    "for  i in range(len(arr)):\n",
    "    if arr[i]>maxele:\n",
    "        secondmax=maxele\n",
    "        maxele=arr[i]\n",
    "        if(arr[i]>secondmax and arr[i] != maxele):\n",
    "            secondmax=arr[i]\n",
    "            \n",
    "print(\"second max \",secondmax)\n",
    "        "
   ]
  },
  {
   "cell_type": "markdown",
   "id": "40d347a1",
   "metadata": {},
   "source": [
    "### q2 remove duplicates from array\n"
   ]
  },
  {
   "cell_type": "code",
   "execution_count": 9,
   "id": "f3376c6d",
   "metadata": {},
   "outputs": [
    {
     "name": "stdout",
     "output_type": "stream",
     "text": [
      "{1, 2, 4, 6}\n"
     ]
    }
   ],
   "source": [
    "arr=[1,1,1,2,2,4,6]\n",
    "# convert the array into set to get unique elements\n",
    "print(set(arr))"
   ]
  },
  {
   "cell_type": "code",
   "execution_count": 11,
   "id": "dd48578f",
   "metadata": {},
   "outputs": [
    {
     "name": "stdout",
     "output_type": "stream",
     "text": [
      "unique values are  [1, 2, 4, 6, 8]\n"
     ]
    }
   ],
   "source": [
    "# optimal solution using 2 pointers\n",
    "arr=[1,1,1,2,2,4,4,6,8]\n",
    "i=0\n",
    "j=1\n",
    "while(j<len(arr)):\n",
    "    if (arr[i]==arr[j]):\n",
    "        j=j+1\n",
    "    else:\n",
    "        i=i+1\n",
    "        arr[i]=arr[j]\n",
    "print(\"unique values are \",arr[:i+1])"
   ]
  },
  {
   "cell_type": "markdown",
   "id": "b57c94f5",
   "metadata": {},
   "source": [
    "### Q3: left rotate array by one position\n"
   ]
  },
  {
   "cell_type": "code",
   "execution_count": 13,
   "id": "164c2c53",
   "metadata": {},
   "outputs": [
    {
     "data": {
      "text/plain": [
       "[2, 3, 4, 5, 1]"
      ]
     },
     "execution_count": 13,
     "metadata": {},
     "output_type": "execute_result"
    }
   ],
   "source": [
    "# solution1 : by using tempary variable\n",
    "\n",
    "arr=[1,2,3,4,5]\n",
    "arr1=[]\n",
    "for i in range(1,len(arr)):\n",
    "    arr1.append(arr[i])\n",
    "arr1.append(arr[0])\n",
    "print(\"array after left rotate is \",arr1)"
   ]
  },
  {
   "cell_type": "code",
   "execution_count": 20,
   "id": "edfbcdb1",
   "metadata": {},
   "outputs": [
    {
     "name": "stdout",
     "output_type": "stream",
     "text": [
      "[2, 2, 3, 4, 5]\n",
      "[2, 3, 3, 4, 5]\n",
      "[2, 3, 4, 4, 5]\n",
      "[2, 3, 4, 5, 5]\n",
      "array after left rotate is  [2, 3, 4, 5, 1]\n"
     ]
    }
   ],
   "source": [
    "# solution2 : by using temp variable store arr[0]\n",
    "arr=[1,2,3,4,5]\n",
    "temp=arr[0]\n",
    "for i in range(0,len(arr)-1):\n",
    "    arr[i]=arr[i+1]\n",
    "    print(arr)\n",
    "arr[-1]=temp\n",
    "print(\"array after left rotate is \",arr)"
   ]
  },
  {
   "cell_type": "code",
   "execution_count": 29,
   "id": "219bebf9",
   "metadata": {},
   "outputs": [
    {
     "name": "stdout",
     "output_type": "stream",
     "text": [
      "array after left rotate is  [6, 1, 2, 3, 4, 5]\n"
     ]
    }
   ],
   "source": [
    "arr=[1,2,3,4,5,6]\n",
    "temp=arr[-1]\n",
    "for i in range(len(arr)-1,-1,-1):\n",
    "    arr[i]=arr[i-1]\n",
    "    if i==0:\n",
    "        arr[i]=temp\n",
    "print(\"array after left rotate is \",arr)"
   ]
  },
  {
   "cell_type": "code",
   "execution_count": null,
   "id": "38df59e5",
   "metadata": {},
   "outputs": [],
   "source": []
  }
 ],
 "metadata": {
  "kernelspec": {
   "display_name": "Python 3 (ipykernel)",
   "language": "python",
   "name": "python3"
  },
  "language_info": {
   "codemirror_mode": {
    "name": "ipython",
    "version": 3
   },
   "file_extension": ".py",
   "mimetype": "text/x-python",
   "name": "python",
   "nbconvert_exporter": "python",
   "pygments_lexer": "ipython3",
   "version": "3.10.9"
  }
 },
 "nbformat": 4,
 "nbformat_minor": 5
}
