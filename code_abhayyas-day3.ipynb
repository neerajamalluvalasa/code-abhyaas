{
 "cells": [
  {
   "cell_type": "code",
   "execution_count": 1,
   "id": "53050bb9",
   "metadata": {},
   "outputs": [],
   "source": [
    " # left rotate array by  k positions"
   ]
  },
  {
   "cell_type": "code",
   "execution_count": 2,
   "id": "3aa6dd0b",
   "metadata": {},
   "outputs": [
    {
     "name": "stdout",
     "output_type": "stream",
     "text": [
      "enter no of positions 4\n",
      "after left rotate arr is  [5, 1, 2, 3, 4]\n"
     ]
    }
   ],
   "source": [
    "arr=[1,2,3,4,5]\n",
    "k=int(input(\"enter no of positions \"))\n",
    "for i in range(k):\n",
    "    ele=arr[0]\n",
    "    arr.remove(arr[0])\n",
    "    arr.append(ele)\n",
    "print(\"after left rotate arr is \",arr)\n",
    "    "
   ]
  },
  {
   "cell_type": "markdown",
   "id": "48e3d849",
   "metadata": {},
   "source": [
    "#### optimal solution\n",
    "-> left reverse(0,k) \n",
    "\n",
    "->reverse right(k,n)\n",
    "\n",
    "-> reverse total arr(0,n)"
   ]
  },
  {
   "cell_type": "code",
   "execution_count": 3,
   "id": "b23da723",
   "metadata": {},
   "outputs": [
    {
     "name": "stdout",
     "output_type": "stream",
     "text": [
      "enter a no of position 4\n",
      "[5, 1, 2, 3, 4]\n"
     ]
    }
   ],
   "source": [
    "arr=[1,2,3,4,5]\n",
    "def reversearr(arr,st,end):\n",
    "    while(st<=end-1):\n",
    "        temp=arr[st]\n",
    "        arr[st]=arr[end]\n",
    "        arr[end]=temp\n",
    "        st=st+1\n",
    "        end=end-1\n",
    "        \n",
    "    return arr\n",
    "n=len(arr)\n",
    "k=int(input(\"enter a no of position \"))\n",
    "left=reversearr(arr,0,k-1)\n",
    "right=reversearr(left,k,n-1)\n",
    "total=reversearr(right,0,n-1)\n",
    "\n",
    "print(total)"
   ]
  },
  {
   "cell_type": "markdown",
   "id": "8f64846b",
   "metadata": {},
   "source": [
    "###  right rotate array by k position\n",
    "-> there are 2 solutions \n",
    "\n",
    "    ->reverse total array\n",
    "   \n",
    "    ->reverse left k elements\n",
    "   \n",
    "    -> reverse right k elements\n",
    "   \n",
    " ----------------------------------------------------------------  \n",
    "-> other solution\n",
    "\n",
    "    -> reverse right k elements\n",
    "  \n",
    "    -> reverse left k elements\n",
    "  \n",
    "    -> reverse total array\n"
   ]
  },
  {
   "cell_type": "code",
   "execution_count": 4,
   "id": "1120a0ea",
   "metadata": {},
   "outputs": [
    {
     "name": "stdout",
     "output_type": "stream",
     "text": [
      "enter a no of position 4\n",
      "[9, 3, 9, 10, 5]\n"
     ]
    }
   ],
   "source": [
    "arr=[5,9,3,9,10]\n",
    "def reversearr(arr,st,end):\n",
    "    while(st<=end-1):\n",
    "        temp=arr[st]\n",
    "        arr[st]=arr[end]\n",
    "        arr[end]=temp\n",
    "        st=st+1\n",
    "        end=end-1\n",
    "        \n",
    "    return arr\n",
    "n=len(arr)\n",
    "k=int(input(\"enter a no of position \"))\n",
    "total=reversearr(arr,0,n-1)\n",
    "left=reversearr(total,0,k-1)\n",
    "right=reversearr(left,k,n-1)\n",
    "print(right)"
   ]
  },
  {
   "cell_type": "code",
   "execution_count": 5,
   "id": "b3f41884",
   "metadata": {},
   "outputs": [
    {
     "name": "stdout",
     "output_type": "stream",
     "text": [
      "enter a no of position 4\n",
      "[5, 10, 9, 3, 9]\n",
      "[5, 10, 9, 3, 9]\n",
      "[9, 3, 9, 10, 5]\n"
     ]
    }
   ],
   "source": [
    "arr=[5,9,3,9,10]\n",
    "def reversearr(arr,st,end):\n",
    "    while(st<=end):\n",
    "        temp=arr[st]\n",
    "        arr[st]=arr[end]\n",
    "        arr[end]=temp\n",
    "        st=st+1\n",
    "        end=end-1\n",
    "        \n",
    "    return arr\n",
    "n=len(arr)\n",
    "k=int(input(\"enter a no of position \"))\n",
    "right=reversearr(arr,n-k,n-1)\n",
    "print(right)\n",
    "left=reversearr(right,0,n-k-1)\n",
    "print(left)\n",
    "total=reversearr(left,0,n-1)\n",
    "\n",
    "print(total)"
   ]
  },
  {
   "cell_type": "markdown",
   "id": "4baec3f4",
   "metadata": {},
   "source": [
    "### Q2 : no.of   heighest consequitive  1s"
   ]
  },
  {
   "cell_type": "code",
   "execution_count": 6,
   "id": "0ab6e6e9",
   "metadata": {},
   "outputs": [
    {
     "name": "stdout",
     "output_type": "stream",
     "text": [
      "np.of consicutive one present in arr is 5 \n"
     ]
    }
   ],
   "source": [
    "arr=[1,2,1,1,1,1,1,3,1,1,1,1,4,5]\n",
    "maxcount=0\n",
    "count=0\n",
    "for i in arr:\n",
    "    if i==1:\n",
    "        count+=1\n",
    "    else:\n",
    "        count=0\n",
    "    maxcount=max(maxcount,count)\n",
    "print(f\"np.of consicutive one present in arr is {maxcount} \")"
   ]
  },
  {
   "cell_type": "code",
   "execution_count": 7,
   "id": "6253dbdc",
   "metadata": {},
   "outputs": [],
   "source": [
    "# work"
   ]
  },
  {
   "cell_type": "markdown",
   "id": "6c5e9cc9",
   "metadata": {},
   "source": [
    "## linear search\n"
   ]
  },
  {
   "cell_type": "code",
   "execution_count": 8,
   "id": "ac273f47",
   "metadata": {},
   "outputs": [
    {
     "name": "stdout",
     "output_type": "stream",
     "text": [
      "enter a number to search 4\n",
      "the number 4 is present at index 2\n"
     ]
    }
   ],
   "source": [
    "arr=[1,12,4,2,9,6,8,10,3]\n",
    "ele=int(input(\"enter a number to search \"))\n",
    "for i in range(len(arr)):\n",
    "    if arr[i]==ele:\n",
    "        print(f'the number {ele} is present at index {i}' )\n",
    "        break"
   ]
  },
  {
   "cell_type": "markdown",
   "id": "3124bf58",
   "metadata": {},
   "source": [
    "## binary search\n",
    "    -> to perform binary search the array must be in sorted form"
   ]
  },
  {
   "cell_type": "code",
   "execution_count": 10,
   "id": "b3a6fb75",
   "metadata": {},
   "outputs": [
    {
     "name": "stdout",
     "output_type": "stream",
     "text": [
      "enter a number to search 3\n",
      "the number 3 is present at index 2\n"
     ]
    }
   ],
   "source": [
    "arr=[1,2,3,4,5,6,7,8]\n",
    "ele=int(input(\"enter a number to search \"))\n",
    "low=0\n",
    "high=len(arr)\n",
    "def binarysearch(arr,low,high,ele):\n",
    "    if high>=low:\n",
    "        mid=(low+high)//2\n",
    "        if arr[mid]==ele:\n",
    "            return f'the number {ele} is present at index {mid}' \n",
    "        elif  ele<arr[mid]:\n",
    "            return binarysearch(arr,low,mid-1,ele)\n",
    "        else:\n",
    "            return binarysearch(arr,mid+1,high,ele)\n",
    "        \n",
    "search=binarysearch(arr,low,high,ele)\n",
    "print(search)"
   ]
  },
  {
   "cell_type": "markdown",
   "id": "56b4a130",
   "metadata": {},
   "source": [
    "### Q3 union of 2 arrays\n",
    "   \n",
    "   -> arr=[1,2,3,4]\n",
    "   \n",
    "   -> arr=[3,5,6]\n",
    "   \n",
    "   -> result=[1,2,3,4,5,6]"
   ]
  },
  {
   "cell_type": "code",
   "execution_count": 23,
   "id": "db239944",
   "metadata": {},
   "outputs": [
    {
     "name": "stdout",
     "output_type": "stream",
     "text": [
      "4\n",
      "[1, 2, 3, 4, 5, 6]\n"
     ]
    }
   ],
   "source": [
    "arr=[1,2,3,4,5]\n",
    "arr1=[4,6,3]\n",
    "# to remove duplicates in arr\n",
    "i=0\n",
    "j=1\n",
    "for j in range(len(arr)):\n",
    "    if arr[j]==arr[i]:\n",
    "        j+=1\n",
    "    else:\n",
    "        i+=1\n",
    "        arr[i]=arr[j]\n",
    "print(i)\n",
    "for k in arr1:\n",
    "    if k not in arr:\n",
    "        i=i+1\n",
    "        arr.append(k)\n",
    "print(arr[:i+1])"
   ]
  },
  {
   "cell_type": "code",
   "execution_count": 20,
   "id": "78456110",
   "metadata": {},
   "outputs": [
    {
     "name": "stdout",
     "output_type": "stream",
     "text": [
      "[1, 2, 4, 5]\n"
     ]
    }
   ],
   "source": []
  },
  {
   "cell_type": "code",
   "execution_count": null,
   "id": "71f26f7e",
   "metadata": {},
   "outputs": [],
   "source": []
  }
 ],
 "metadata": {
  "kernelspec": {
   "display_name": "Python 3 (ipykernel)",
   "language": "python",
   "name": "python3"
  },
  "language_info": {
   "codemirror_mode": {
    "name": "ipython",
    "version": 3
   },
   "file_extension": ".py",
   "mimetype": "text/x-python",
   "name": "python",
   "nbconvert_exporter": "python",
   "pygments_lexer": "ipython3",
   "version": "3.10.9"
  }
 },
 "nbformat": 4,
 "nbformat_minor": 5
}
