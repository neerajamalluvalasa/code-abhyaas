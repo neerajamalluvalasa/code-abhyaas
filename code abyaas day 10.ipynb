{
 "cells": [
  {
   "cell_type": "code",
   "execution_count": 3,
   "id": "79fb48a8",
   "metadata": {},
   "outputs": [
    {
     "name": "stdout",
     "output_type": "stream",
     "text": [
      "enter starting year 1\n",
      "enter ending year 100\n",
      "the no of leap years between given range is  24\n"
     ]
    }
   ],
   "source": [
    "# no.of leap year count between 2 years\n",
    "a=int(input(\"enter starting year \"))\n",
    "b=int(input(\"enter ending year \"))\n",
    "u=(a//4)-(a//100)+(a//400)\n",
    "v=(b//4)-(b//100)+(b//400)\n",
    "count=v-u\n",
    "print(\"the no of leap years between given range is \",count)"
   ]
  },
  {
   "cell_type": "code",
   "execution_count": 4,
   "id": "0e56d5d3",
   "metadata": {},
   "outputs": [
    {
     "name": "stdout",
     "output_type": "stream",
     "text": [
      "repearting element is  4\n",
      "the missing element is  5\n",
      "the missing element is  5\n"
     ]
    }
   ],
   "source": [
    "# finding repeating and missing number in an array\n",
    "arr=[1,2,3,4,4,6,7]\n",
    "for i in range(len(arr)-1):\n",
    "    if arr[i]==arr[i+1]:\n",
    "        print(\"repearting element is \",arr[i])\n",
    "    if arr[i]!=arr[i+1]-1:\n",
    "        print(\"the missing element is \",arr[i]+1)"
   ]
  },
  {
   "cell_type": "code",
   "execution_count": 28,
   "id": "e0896440",
   "metadata": {},
   "outputs": [
    {
     "name": "stdout",
     "output_type": "stream",
     "text": [
      "the missing element is 2,the repeated element is 3\n"
     ]
    }
   ],
   "source": [
    "arr=[1,3,3,4,5,6,7]\n",
    "n=len(arr)\n",
    "sn=(n*(n+1))//2\n",
    "sn2=(n*(n+1)*((2*n)+1))//6\n",
    "sum1=0\n",
    "sum2=0\n",
    "for i in arr:\n",
    "    sum1=sum1+i\n",
    "    sum2=sum2+(i**2)\n",
    "#print(sn,sum1)\n",
    "#print(sn2,sum2)\n",
    "\n",
    "# x= missing\n",
    "# y= repeated\n",
    "\n",
    "xy=sn-sum1\n",
    "x2y2=sn2-sum2\n",
    "#print(xy,x2y2)\n",
    "\n",
    "xyplus=x2y2//xy\n",
    "#print(xyplus)\n",
    "missing=(xy+xyplus)//2\n",
    "repeated=missing-xy\n",
    "print(f\"the missing element is {missing},the repeated element is {repeated}\")\n"
   ]
  },
  {
   "cell_type": "code",
   "execution_count": 38,
   "id": "633c12ca",
   "metadata": {},
   "outputs": [
    {
     "name": "stdout",
     "output_type": "stream",
     "text": [
      "[2, 3, 4, 5, 8] ---- [9, 10, 11, 12, 13]\n"
     ]
    }
   ],
   "source": [
    "# sort the two sorted arrays\n",
    "arr1=[2,8,9,10,12]\n",
    "arr2=[3,4,5,11,13]\n",
    "i=len(arr1)-1\n",
    "j=0\n",
    "for j in range(len(arr2)):\n",
    "    if arr1[i]>arr2[j]:\n",
    "        temp=arr1[i]\n",
    "        arr1[i]=arr2[j]\n",
    "        arr2[j]=temp\n",
    "        \n",
    "    i=i-1\n",
    "    \n",
    "arr1.sort()\n",
    "arr2.sort()\n",
    "        \n",
    "print(arr1,\"----\",arr2)"
   ]
  },
  {
   "cell_type": "code",
   "execution_count": 42,
   "id": "4e817f30",
   "metadata": {},
   "outputs": [
    {
     "name": "stdout",
     "output_type": "stream",
     "text": [
      "{'a': 4, 'b': 2, 'c': 1, 'd': 1}\n",
      "a4b2cd\n"
     ]
    }
   ],
   "source": [
    "# string compression\n",
    "array=[\"a\",\"a\",\"a\",\"b\",\"b\",\"c\",\"d\",\"a\"]\n",
    "hash={}\n",
    "for i in array:\n",
    "    if i not in hash:\n",
    "        hash[i]=1\n",
    "    else:\n",
    "        hash[i]+=1\n",
    "print(hash)\n",
    "s=\"\"\n",
    "for i in hash:\n",
    "    if hash[i]!=1:\n",
    "        s=s+i+str(hash[i])\n",
    "    else:\n",
    "        s=s+i\n",
    "        \n",
    "print(s)\n",
    "        \n",
    "    "
   ]
  },
  {
   "cell_type": "code",
   "execution_count": 44,
   "id": "b1ae16c7",
   "metadata": {},
   "outputs": [
    {
     "name": "stdout",
     "output_type": "stream",
     "text": [
      "a4b2cd\n"
     ]
    }
   ],
   "source": [
    "array=[\"a\",\"a\",\"a\",\"b\",\"b\",\"c\",\"d\",\"a\"]\n",
    "s=\"\"\n",
    "for i in array:\n",
    "    if i not in s:\n",
    "        if array.count(i)!=1:\n",
    "            s=s+i+str(array.count(i))\n",
    "        else:\n",
    "            s=s+i\n",
    "            \n",
    "print(s)"
   ]
  },
  {
   "cell_type": "code",
   "execution_count": null,
   "id": "7f6cd33a",
   "metadata": {},
   "outputs": [],
   "source": []
  }
 ],
 "metadata": {
  "kernelspec": {
   "display_name": "Python 3 (ipykernel)",
   "language": "python",
   "name": "python3"
  },
  "language_info": {
   "codemirror_mode": {
    "name": "ipython",
    "version": 3
   },
   "file_extension": ".py",
   "mimetype": "text/x-python",
   "name": "python",
   "nbconvert_exporter": "python",
   "pygments_lexer": "ipython3",
   "version": "3.10.9"
  }
 },
 "nbformat": 4,
 "nbformat_minor": 5
}
