{
 "cells": [
  {
   "cell_type": "markdown",
   "id": "3c43a0ce",
   "metadata": {},
   "source": [
    "## messing values in array\n",
    " -> xor    -> o(n)\n",
    " \n",
    " -> sorting  -> nlogn\n",
    " \n",
    " -> formula  -> o(n),s->o(1)\n",
    " \n",
    " -> naive approches"
   ]
  },
  {
   "cell_type": "code",
   "execution_count": 1,
   "id": "e2aca04a",
   "metadata": {},
   "outputs": [
    {
     "name": "stdout",
     "output_type": "stream",
     "text": [
      "the messing element is  4\n"
     ]
    }
   ],
   "source": [
    "arr=[1,2,3,5]\n",
    "# naive approches\n",
    "for i in range(1,len(arr)+1):\n",
    "    if i not in arr:\n",
    "        print(\"the messing element is \",i)"
   ]
  },
  {
   "cell_type": "code",
   "execution_count": 2,
   "id": "66889ee9",
   "metadata": {},
   "outputs": [
    {
     "name": "stdout",
     "output_type": "stream",
     "text": [
      "the missing element is  4\n"
     ]
    }
   ],
   "source": [
    "# by using formula\n",
    "n=len(arr)+1\n",
    "sum=int(n*(n+1)/2)\n",
    "for i in arr:\n",
    "    sum=sum-i\n",
    "print(\"the missing element is \",sum)"
   ]
  },
  {
   "cell_type": "code",
   "execution_count": 3,
   "id": "8f665137",
   "metadata": {},
   "outputs": [
    {
     "name": "stdout",
     "output_type": "stream",
     "text": [
      "missing element is  4\n",
      "missing element is  6\n"
     ]
    }
   ],
   "source": [
    "# for staring by using sorting\n",
    "arr=[1,3,2,5,7]\n",
    "for i in range(len(arr)):\n",
    "    for j in range(len(arr)):\n",
    "        if arr[i]<arr[j]:\n",
    "            temp=arr[i]\n",
    "            arr[i]=arr[j]\n",
    "            arr[j]=temp\n",
    "for i in range(len(arr)-1):\n",
    "    if (arr[i]+1)!=arr[i+1]:\n",
    "        print(\"missing element is \",arr[i]+1)"
   ]
  },
  {
   "cell_type": "code",
   "execution_count": 5,
   "id": "545ef3e3",
   "metadata": {},
   "outputs": [
    {
     "name": "stdout",
     "output_type": "stream",
     "text": [
      "missing element  4\n"
     ]
    }
   ],
   "source": [
    "# using xor operator\n",
    "arr=[1,2,5,3]\n",
    "xor=0\n",
    "for i in range(1,len(arr)+2):\n",
    "    xor=xor^i\n",
    "for j in arr:\n",
    "    xor=xor^j\n",
    "print(\"missing element \",xor)"
   ]
  },
  {
   "cell_type": "markdown",
   "id": "23ca9b99",
   "metadata": {},
   "source": [
    "## Q3 : finding the number that appesrs once\n",
    "\n",
    "     ->  the conditions is all elements apperat max 2 times\n",
    "     \n",
    "     -> solutions\n",
    "           ->** hashing\n",
    "           \n",
    "           -> sorting \n",
    "           \n",
    "           -> **xor**"
   ]
  },
  {
   "cell_type": "code",
   "execution_count": 28,
   "id": "328c0d22",
   "metadata": {},
   "outputs": [
    {
     "name": "stdout",
     "output_type": "stream",
     "text": [
      "[1, 1, 2, 2, 3, 3, 4]\n",
      "4\n",
      "4\n"
     ]
    }
   ],
   "source": [
    "arr=[1,2,3,3,1,2,4]\n",
    "# sorting\n",
    "for i in range(len(arr)):\n",
    "    for j in range(len(arr)):\n",
    "        if arr[i]<arr[j]:\n",
    "            temp=arr[i]\n",
    "            arr[i]=arr[j]\n",
    "            arr[j]=temp\n",
    "print(arr)\n",
    "for i in range(0,len(arr)+1,2):\n",
    "    if(i<n-1):\n",
    "        if arr[i+1]-arr[i]>0:\n",
    "            print(arr[i])\n",
    "    else:\n",
    "        print(arr[-1])"
   ]
  },
  {
   "cell_type": "code",
   "execution_count": 7,
   "id": "4d620edf",
   "metadata": {},
   "outputs": [
    {
     "name": "stdout",
     "output_type": "stream",
     "text": [
      "the element that appear at once   4\n"
     ]
    }
   ],
   "source": [
    "arr=[1,2,3,3,1,2,4]\n",
    "# by using hashing\n",
    "c={}\n",
    "for i in arr:\n",
    "    if i not in c:\n",
    "        c[i]=1\n",
    "    else:\n",
    "        c[i]+=1\n",
    "for i in c:\n",
    "    if c[i]==1:\n",
    "        print(\"the element that appear at once  \",i)\n",
    "    "
   ]
  },
  {
   "cell_type": "code",
   "execution_count": 8,
   "id": "39ddf2d1",
   "metadata": {},
   "outputs": [
    {
     "name": "stdout",
     "output_type": "stream",
     "text": [
      "the element that appear at once  4\n"
     ]
    }
   ],
   "source": [
    "# by using xor\n",
    "arr=[1,2,3,3,1,2,4]\n",
    "xor=0\n",
    "for i in arr:\n",
    "    xor=xor^i\n",
    "print(\"the element that appear at once \",xor)"
   ]
  },
  {
   "cell_type": "markdown",
   "id": "d9a554b3",
   "metadata": {},
   "source": [
    "###  subarray\n",
    "\n",
    "    -> must follow sequence \n",
    "    \n",
    "    -> no.of subarray are n(n+1)/2\n",
    "\n",
    "###  subsequence\n",
    "\n",
    "    -> need not follow sequence\n",
    "    \n",
    "    -> no.of subsequence 2^n"
   ]
  },
  {
   "cell_type": "code",
   "execution_count": 18,
   "id": "2a234442",
   "metadata": {},
   "outputs": [
    {
     "name": "stdout",
     "output_type": "stream",
     "text": [
      "[1]\n",
      "[1, 2]\n",
      "[1, 2, 3]\n",
      "[1, 2, 3, 3]\n",
      "[1, 2, 3, 3, 5]\n",
      "[2]\n",
      "[2, 3]\n",
      "[2, 3, 3]\n",
      "[2, 3, 3, 5]\n",
      "[3]\n",
      "[3, 3]\n",
      "[3, 3, 5]\n",
      "[3]\n",
      "[3, 5]\n",
      "[5]\n"
     ]
    }
   ],
   "source": [
    "# subarray generation\n",
    "\n",
    "arr=[1,2,3,3,5]\n",
    "for i in range(len(arr)+1):\n",
    "    for j in range(i+1,len(arr)+1):\n",
    "        print(arr[i:j])\n"
   ]
  },
  {
   "cell_type": "markdown",
   "id": "699d2fd8",
   "metadata": {},
   "source": [
    "### Q3 : length of maximum subarray with k sum"
   ]
  },
  {
   "cell_type": "code",
   "execution_count": 17,
   "id": "56a06378",
   "metadata": {},
   "outputs": [
    {
     "name": "stdout",
     "output_type": "stream",
     "text": [
      "5\n"
     ]
    }
   ],
   "source": [
    "arr=[1,2,3,6,12,24]\n",
    "k=24\n",
    "maxcount=0\n",
    "\n",
    "for i in range(len(arr)):\n",
    "    sum=0\n",
    "    count=0\n",
    "    for j in range(i,len(arr)-1):\n",
    "        \n",
    "        sum=sum+arr[j]\n",
    "        \n",
    "        count+=1\n",
    "        if sum==k:\n",
    "            maxcount=max(maxcount,count)\n",
    "print(maxcount)\n",
    "            "
   ]
  },
  {
   "cell_type": "code",
   "execution_count": 21,
   "id": "5b953979",
   "metadata": {},
   "outputs": [
    {
     "name": "stdout",
     "output_type": "stream",
     "text": [
      "3\n"
     ]
    }
   ],
   "source": [
    "arr=[3,3,3,6,12]\n",
    "i=j=0\n",
    "sume=0\n",
    "k=9\n",
    "\n",
    "for j in range(len(arr)):\n",
    "    sume=sume+arr[j]\n",
    "    if sume==k:\n",
    "        maxel=j-i+1\n",
    "    elif sume<k:\n",
    "        j+=1\n",
    "    elif sume>k:\n",
    "        sume=sume-arr[i]\n",
    "        i=i+1\n",
    "    \n",
    "print(maxel)  "
   ]
  },
  {
   "cell_type": "code",
   "execution_count": null,
   "id": "d99c4c4d",
   "metadata": {},
   "outputs": [],
   "source": []
  }
 ],
 "metadata": {
  "kernelspec": {
   "display_name": "Python 3 (ipykernel)",
   "language": "python",
   "name": "python3"
  },
  "language_info": {
   "codemirror_mode": {
    "name": "ipython",
    "version": 3
   },
   "file_extension": ".py",
   "mimetype": "text/x-python",
   "name": "python",
   "nbconvert_exporter": "python",
   "pygments_lexer": "ipython3",
   "version": "3.10.9"
  }
 },
 "nbformat": 4,
 "nbformat_minor": 5
}
