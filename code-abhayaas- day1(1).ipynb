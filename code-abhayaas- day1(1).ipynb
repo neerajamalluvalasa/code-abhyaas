{
 "cells": [
  {
   "cell_type": "markdown",
   "id": "05607b4a",
   "metadata": {},
   "source": [
    "## Hashing\n",
    "- hashing is implemented by using dictionaries in python and in java,c++ languages hashmaps are used\n",
    "- hashing will help to efficient storage of data and retrival\n",
    "- hashing can be used to find duplicate values"
   ]
  },
  {
   "cell_type": "code",
   "execution_count": 24,
   "id": "570f1016",
   "metadata": {},
   "outputs": [
    {
     "name": "stdout",
     "output_type": "stream",
     "text": [
      "the hash fuction for array is {1: 2, 2: 3, 4: 1, 8: 1}\n"
     ]
    }
   ],
   "source": [
    "# hashing implementation by using dictionary\n",
    "arr=[1,2,2,4,1,8,2]\n",
    "c={}\n",
    "for i in arr:\n",
    "    if i not in c:\n",
    "        c[i]=1\n",
    "    else:\n",
    "        c[i]+=1\n",
    "        \n",
    "\n",
    "print(\"the hash fuction for array is\",c)  "
   ]
  },
  {
   "cell_type": "code",
   "execution_count": 25,
   "id": "375653d8",
   "metadata": {},
   "outputs": [
    {
     "name": "stdout",
     "output_type": "stream",
     "text": [
      "the frequency of 1 is 2\n",
      "the frequency of 2 is 3\n",
      "the frequency of 4 is 1\n",
      "the frequency of 8 is 1\n"
     ]
    }
   ],
   "source": [
    "# printing frequency of each element\n",
    "for i in c:\n",
    "    print(f\"the frequency of {i} is {c[i]}\")"
   ]
  },
  {
   "cell_type": "code",
   "execution_count": 27,
   "id": "e0d4ab58",
   "metadata": {},
   "outputs": [
    {
     "name": "stdout",
     "output_type": "stream",
     "text": [
      "the heighest occuring element is 2 it occuring 3 times\n"
     ]
    }
   ],
   "source": [
    "# for geting heighest occuring  element\n",
    "maxc=1\n",
    "for i in c:\n",
    "    if c[i]>maxc:\n",
    "        maxele=i\n",
    "        maxc=c[i]\n",
    "print(f'the heighest occuring element is {maxele} it occuring {maxc} times')\n",
    "        "
   ]
  },
  {
   "cell_type": "code",
   "execution_count": 39,
   "id": "2fded199",
   "metadata": {},
   "outputs": [
    {
     "name": "stdout",
     "output_type": "stream",
     "text": [
      "{1: 2, 2: 3, 4: 1, 8: 1}\n",
      "the lowest occuring element is 8 it occuring 1 times\n"
     ]
    }
   ],
   "source": [
    "print(c)\n",
    "minc=1\n",
    "for i in c:\n",
    "    if c[i]<=minc:\n",
    "        minele=i\n",
    "        minc=c[i]\n",
    "        \n",
    "print(f'the lowest occuring element is {minele} it occuring {minc} times')\n"
   ]
  },
  {
   "cell_type": "code",
   "execution_count": 40,
   "id": "8422ae0b",
   "metadata": {},
   "outputs": [
    {
     "name": "stdout",
     "output_type": "stream",
     "text": [
      "the elements occurs only once are  [4, 8]\n"
     ]
    }
   ],
   "source": [
    "# find elements occurs only one time\n",
    "elements=[]\n",
    "for i in c:\n",
    "    if c[i]==1:\n",
    "        elements.append(i)\n",
    "print(\"the elements occurs only once are \",elements)"
   ]
  },
  {
   "cell_type": "code",
   "execution_count": 42,
   "id": "a69ca2a0",
   "metadata": {},
   "outputs": [
    {
     "name": "stdout",
     "output_type": "stream",
     "text": [
      "the  number of most occuring element  3\n",
      "the number of least occuring elements  1\n"
     ]
    }
   ],
   "source": [
    "print(\"the  number of most occuring element \",max(c.values()))\n",
    "print(\"the number of least occuring elements \",min(c.values()))"
   ]
  },
  {
   "cell_type": "code",
   "execution_count": null,
   "id": "54b8cf00",
   "metadata": {},
   "outputs": [],
   "source": []
  }
 ],
 "metadata": {
  "kernelspec": {
   "display_name": "Python 3 (ipykernel)",
   "language": "python",
   "name": "python3"
  },
  "language_info": {
   "codemirror_mode": {
    "name": "ipython",
    "version": 3
   },
   "file_extension": ".py",
   "mimetype": "text/x-python",
   "name": "python",
   "nbconvert_exporter": "python",
   "pygments_lexer": "ipython3",
   "version": "3.10.9"
  }
 },
 "nbformat": 4,
 "nbformat_minor": 5
}
