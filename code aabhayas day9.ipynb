{
 "cells": [
  {
   "cell_type": "code",
   "execution_count": 19,
   "id": "73f7d85b",
   "metadata": {},
   "outputs": [
    {
     "name": "stdout",
     "output_type": "stream",
     "text": [
      "5\n"
     ]
    }
   ],
   "source": [
    "# longest consequtive sequence in an array\n",
    "arr=[1,2,3,4,86,99,100,101,102,103]\n",
    "count=1\n",
    "maxcount=0\n",
    "arr.sort()\n",
    "for i in range(len(arr)-1):\n",
    "    if arr[i+1]==arr[i]+1:\n",
    "        count=count+1\n",
    "        \n",
    "    else:\n",
    "        count=1\n",
    "    maxcount=max(count,maxcount)\n",
    "print(maxcount)"
   ]
  },
  {
   "cell_type": "code",
   "execution_count": 25,
   "id": "ab61d8d3",
   "metadata": {},
   "outputs": [
    {
     "name": "stdout",
     "output_type": "stream",
     "text": [
      "1 2 3 4  \n",
      "5 6 7 8  \n",
      "9 10 11 12  \n",
      "13 14 15 16  \n"
     ]
    }
   ],
   "source": [
    "arr=[[1,2,3,4],[5,6,7,8],[9,10,11,12],[13,14,15,16]]\n",
    "for i in range(4):\n",
    "    for j in range(4):\n",
    "        print(arr[i][j],end=\" \")\n",
    "    print(\" \")"
   ]
  },
  {
   "cell_type": "code",
   "execution_count": 27,
   "id": "2abe8578",
   "metadata": {},
   "outputs": [
    {
     "name": "stdout",
     "output_type": "stream",
     "text": [
      "1\n"
     ]
    }
   ],
   "source": [
    "arr=[1,2,3,6,12]\n",
    "sum=6\n",
    "i=0\n",
    "count=0\n",
    "j=len(arr)-1\n",
    "while(i<j):\n",
    "    if(arr[i]==sum or arr[j]==sum):\n",
    "        count=count+1\n",
    "    sum1=arr[i]+arr[j]\n",
    "    if sum1==sum:\n",
    "        count=count+1\n",
    "    elif sum1<sum:\n",
    "        i+=1\n",
    "    else:\n",
    "        j-=1\n",
    "print(count)"
   ]
  },
  {
   "cell_type": "code",
   "execution_count": 30,
   "id": "9eaba9fc",
   "metadata": {},
   "outputs": [
    {
     "name": "stdout",
     "output_type": "stream",
     "text": [
      "0\n"
     ]
    }
   ],
   "source": [
    "arr=[1,2,3,6,12]\n",
    "sum=12\n",
    "i=0\n",
    "count=0\n",
    "j=len(arr)-1\n",
    "while(i<j):\n",
    "    sum1=arr[i]+arr[j]\n",
    "    if sum1==sum:\n",
    "        count=count+1\n",
    "    elif sum1<sum:\n",
    "        i+=1\n",
    "    else:\n",
    "        j-=1\n",
    "print(j-i)"
   ]
  },
  {
   "cell_type": "code",
   "execution_count": 37,
   "id": "5719dd1c",
   "metadata": {},
   "outputs": [
    {
     "name": "stdout",
     "output_type": "stream",
     "text": [
      "6\n",
      "5\n"
     ]
    }
   ],
   "source": [
    "# the sub array size ,and count the no.of  subarrays with given sum\n",
    "arr=[1,2,3,6,12,1,1,1,3,24]\n",
    "k=24\n",
    "maxcount=0\n",
    "subcount=0\n",
    "for i in range(len(arr)):\n",
    "    if(arr[i])==k:\n",
    "        subcount+=1\n",
    "    sum=0\n",
    "    count=0\n",
    "    for j in range(i,len(arr)-1):\n",
    "        \n",
    "        sum=sum+arr[j]\n",
    "        \n",
    "        count+=1\n",
    "        if sum==k:\n",
    "            subcount+=1\n",
    "            maxcount=max(maxcount,count)\n",
    "print(maxcount)\n",
    "print(subcount)"
   ]
  },
  {
   "cell_type": "code",
   "execution_count": null,
   "id": "7709367c",
   "metadata": {},
   "outputs": [],
   "source": []
  }
 ],
 "metadata": {
  "kernelspec": {
   "display_name": "Python 3 (ipykernel)",
   "language": "python",
   "name": "python3"
  },
  "language_info": {
   "codemirror_mode": {
    "name": "ipython",
    "version": 3
   },
   "file_extension": ".py",
   "mimetype": "text/x-python",
   "name": "python",
   "nbconvert_exporter": "python",
   "pygments_lexer": "ipython3",
   "version": "3.10.9"
  }
 },
 "nbformat": 4,
 "nbformat_minor": 5
}
